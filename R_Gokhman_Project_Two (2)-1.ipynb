{
  "cells": [
    {
      "cell_type": "markdown",
      "metadata": {
        "id": "009e8fc2"
      },
      "source": [
        "# 1. Build an object detection model using pytorch"
      ],
      "id": "009e8fc2"
    },
    {
      "cell_type": "markdown",
      "metadata": {
        "id": "XkTvUtM9gxQ8"
      },
      "source": [
        "Library import"
      ],
      "id": "XkTvUtM9gxQ8"
    },
    {
      "cell_type": "code",
      "execution_count": 1,
      "metadata": {
        "id": "133be475"
      },
      "outputs": [],
      "source": [
        "import numpy as np\n",
        "import pandas as pd\n",
        "import torch\n",
        "import torchvision\n",
        "import os\n",
        "import torch.nn as nn\n",
        "import torch.optim as optim\n",
        "from torchvision.models.detection.faster_rcnn import FastRCNNPredictor\n",
        "from torchvision import transforms\n",
        "from torch.utils.data import Dataset, DataLoader\n",
        "from torchvision.datasets import ImageFolder\n",
        "import matplotlib.pyplot as plt\n",
        "from torchvision import transforms as T\n",
        "from glob import glob\n",
        "from PIL import Image\n",
        "import numpy as np\n",
        "import torch.nn.functional as F\n",
        "import random\n",
        "from PIL import Image\n",
        "import torchvision.transforms.functional as TF\n",
        "import pandas as pd\n",
        "import os\n",
        "from sklearn.metrics import jaccard_score"
      ],
      "id": "133be475"
    },
    {
      "cell_type": "markdown",
      "metadata": {
        "id": "SKrimUeSh3t6"
      },
      "source": [
        "Load pre-trained ResNet50 model"
      ],
      "id": "SKrimUeSh3t6"
    },
    {
      "cell_type": "markdown",
      "metadata": {
        "id": "UWCGPkeUieBZ"
      },
      "source": [
        "Replace the classifier with a new one that has the correct number of output feautures"
      ],
      "id": "UWCGPkeUieBZ"
    },
    {
      "cell_type": "code",
      "execution_count": 2,
      "metadata": {
        "id": "KOIbDEFIjV30"
      },
      "outputs": [],
      "source": [
        "num_classes=61"
      ],
      "id": "KOIbDEFIjV30"
    },
    {
      "cell_type": "markdown",
      "metadata": {
        "id": "3B0BBzNzlZtr"
      },
      "source": [
        "Set device to run the model on"
      ],
      "id": "3B0BBzNzlZtr"
    },
    {
      "cell_type": "code",
      "execution_count": 3,
      "metadata": {
        "id": "R_GOIbHFljCV"
      },
      "outputs": [],
      "source": [
        "class ResNet50ForObecjectDetection(nn.Module):\n",
        "    def __init__(self, num_classes=61, num_coordinates=4):\n",
        "        super(ResNet50ForObecjectDetection, self).__init__()\n",
        "        self.resnet50 = torchvision.models.resnet50(pretrained=True)\n",
        "\n",
        "        #delete the last layer - to use ResNet50 as a feature extractor\n",
        "        self.resnet50 = nn.Sequential(*list(self.resnet50.children())[:-1])\n",
        "        self.classes= nn.Sequential(\n",
        "            nn.Linear(2048, num_classes),\n",
        "       \n",
        "        )\n",
        "        self.coordinates = nn.Sequential(\n",
        "            nn.Linear(2048, num_coordinates)\n",
        "        )\n",
        "\n",
        "    def forward(self, x):\n",
        "        x = self.resnet50(x)\n",
        "        x = x.view(x.size(0), -1)\n",
        "        coordinates = self.coordinates(x)\n",
        "        labels=self.classes(x)\n",
        "        return labels, coordinates"
      ],
      "id": "R_GOIbHFljCV"
    },
    {
      "cell_type": "markdown",
      "metadata": {
        "id": "a0c45b84"
      },
      "source": [
        "# 2. Train your model using [cow stall number datasets](https://github.com/YoushanZhang/Cow_stall_number)"
      ],
      "id": "a0c45b84"
    },
    {
      "cell_type": "code",
      "source": [
        "device='cuda' if torch.cuda.is_available() else 'cpu'"
      ],
      "metadata": {
        "id": "cA4lfFsxEa3H"
      },
      "id": "cA4lfFsxEa3H",
      "execution_count": 4,
      "outputs": []
    },
    {
      "cell_type": "code",
      "execution_count": 5,
      "metadata": {
        "colab": {
          "base_uri": "https://localhost:8080/"
        },
        "id": "UJfgk6RrS3yy",
        "outputId": "dc3a4145-67ad-4ed1-854d-c8239ac1a092"
      },
      "outputs": [
        {
          "output_type": "stream",
          "name": "stderr",
          "text": [
            "/usr/local/lib/python3.9/dist-packages/torchvision/models/_utils.py:208: UserWarning: The parameter 'pretrained' is deprecated since 0.13 and may be removed in the future, please use 'weights' instead.\n",
            "  warnings.warn(\n",
            "/usr/local/lib/python3.9/dist-packages/torchvision/models/_utils.py:223: UserWarning: Arguments other than a weight enum or `None` for 'weights' are deprecated since 0.13 and may be removed in the future. The current behavior is equivalent to passing `weights=ResNet50_Weights.IMAGENET1K_V1`. You can also use `weights=ResNet50_Weights.DEFAULT` to get the most up-to-date weights.\n",
            "  warnings.warn(msg)\n"
          ]
        }
      ],
      "source": [
        "model = ResNet50ForObecjectDetection(num_classes=61, num_coordinates=4).to(device)\n",
        "\n",
        "criterion = nn.CrossEntropyLoss()\n",
        "optimizer = optim.Adam(model.parameters(), lr=1e-4)"
      ],
      "id": "UJfgk6RrS3yy"
    },
    {
      "cell_type": "markdown",
      "metadata": {
        "id": "LZFXwQpCiQE-"
      },
      "source": [
        "Load data and normalize data"
      ],
      "id": "LZFXwQpCiQE-"
    },
    {
      "cell_type": "code",
      "execution_count": 6,
      "metadata": {
        "colab": {
          "base_uri": "https://localhost:8080/"
        },
        "id": "50effdac",
        "outputId": "a4d3052f-19c5-4a2b-9529-f14828a3bb7d"
      },
      "outputs": [
        {
          "output_type": "stream",
          "name": "stdout",
          "text": [
            "Drive already mounted at /content/drive; to attempt to forcibly remount, call drive.mount(\"/content/drive\", force_remount=True).\n"
          ]
        }
      ],
      "source": [
        "from google.colab import drive\n",
        "drive.mount('/content/drive')"
      ],
      "id": "50effdac"
    },
    {
      "cell_type": "code",
      "execution_count": 7,
      "metadata": {
        "id": "yoGIABvOpyOA"
      },
      "outputs": [],
      "source": [
        "df_train=pd.read_csv('https://raw.githubusercontent.com/YoushanZhang/Cow_stall_number/main/Train.csv')"
      ],
      "id": "yoGIABvOpyOA"
    },
    {
      "cell_type": "code",
      "execution_count": 8,
      "metadata": {
        "colab": {
          "base_uri": "https://localhost:8080/",
          "height": 488
        },
        "id": "eI2obqGoqBs6",
        "outputId": "aa23aa2e-9d21-455e-9f1e-5cb7d883d61f"
      },
      "outputs": [
        {
          "output_type": "execute_result",
          "data": {
            "text/plain": [
              "           imageFilename  box_position_1  box_position_2  box_position_3  \\\n",
              "0      GH030066_4679.png           287.0           116.0            25.0   \n",
              "1     GH020058_19383.png           275.0            58.0            23.0   \n",
              "2      GH030061_1269.png           306.0            74.0            26.0   \n",
              "3     GH020058_17235.png             0.0             0.0             0.0   \n",
              "4     GH020058_18319.png           288.0            55.0            23.0   \n",
              "...                  ...             ...             ...             ...   \n",
              "1037   GH010068_2548.png           277.0           117.0            22.0   \n",
              "1038  GH020061_19829.png           176.0            86.0            23.0   \n",
              "1039  GH050066_29877.png           277.0           119.0            25.0   \n",
              "1040   GH040066_1951.png           281.0           117.0            20.0   \n",
              "1041  GH020061_22091.png           280.0            82.0            24.0   \n",
              "\n",
              "      box_position_4  class_names  \n",
              "0               23.0           29  \n",
              "1               24.0           44  \n",
              "2               25.0           13  \n",
              "3                0.0            0  \n",
              "4               23.0           42  \n",
              "...              ...          ...  \n",
              "1037            22.0           24  \n",
              "1038            23.0           50  \n",
              "1039            22.0           53  \n",
              "1040            19.0           21  \n",
              "1041            22.0           54  \n",
              "\n",
              "[1042 rows x 6 columns]"
            ],
            "text/html": [
              "\n",
              "  <div id=\"df-aff5f499-e80a-4182-812f-3cc8aefe7599\">\n",
              "    <div class=\"colab-df-container\">\n",
              "      <div>\n",
              "<style scoped>\n",
              "    .dataframe tbody tr th:only-of-type {\n",
              "        vertical-align: middle;\n",
              "    }\n",
              "\n",
              "    .dataframe tbody tr th {\n",
              "        vertical-align: top;\n",
              "    }\n",
              "\n",
              "    .dataframe thead th {\n",
              "        text-align: right;\n",
              "    }\n",
              "</style>\n",
              "<table border=\"1\" class=\"dataframe\">\n",
              "  <thead>\n",
              "    <tr style=\"text-align: right;\">\n",
              "      <th></th>\n",
              "      <th>imageFilename</th>\n",
              "      <th>box_position_1</th>\n",
              "      <th>box_position_2</th>\n",
              "      <th>box_position_3</th>\n",
              "      <th>box_position_4</th>\n",
              "      <th>class_names</th>\n",
              "    </tr>\n",
              "  </thead>\n",
              "  <tbody>\n",
              "    <tr>\n",
              "      <th>0</th>\n",
              "      <td>GH030066_4679.png</td>\n",
              "      <td>287.0</td>\n",
              "      <td>116.0</td>\n",
              "      <td>25.0</td>\n",
              "      <td>23.0</td>\n",
              "      <td>29</td>\n",
              "    </tr>\n",
              "    <tr>\n",
              "      <th>1</th>\n",
              "      <td>GH020058_19383.png</td>\n",
              "      <td>275.0</td>\n",
              "      <td>58.0</td>\n",
              "      <td>23.0</td>\n",
              "      <td>24.0</td>\n",
              "      <td>44</td>\n",
              "    </tr>\n",
              "    <tr>\n",
              "      <th>2</th>\n",
              "      <td>GH030061_1269.png</td>\n",
              "      <td>306.0</td>\n",
              "      <td>74.0</td>\n",
              "      <td>26.0</td>\n",
              "      <td>25.0</td>\n",
              "      <td>13</td>\n",
              "    </tr>\n",
              "    <tr>\n",
              "      <th>3</th>\n",
              "      <td>GH020058_17235.png</td>\n",
              "      <td>0.0</td>\n",
              "      <td>0.0</td>\n",
              "      <td>0.0</td>\n",
              "      <td>0.0</td>\n",
              "      <td>0</td>\n",
              "    </tr>\n",
              "    <tr>\n",
              "      <th>4</th>\n",
              "      <td>GH020058_18319.png</td>\n",
              "      <td>288.0</td>\n",
              "      <td>55.0</td>\n",
              "      <td>23.0</td>\n",
              "      <td>23.0</td>\n",
              "      <td>42</td>\n",
              "    </tr>\n",
              "    <tr>\n",
              "      <th>...</th>\n",
              "      <td>...</td>\n",
              "      <td>...</td>\n",
              "      <td>...</td>\n",
              "      <td>...</td>\n",
              "      <td>...</td>\n",
              "      <td>...</td>\n",
              "    </tr>\n",
              "    <tr>\n",
              "      <th>1037</th>\n",
              "      <td>GH010068_2548.png</td>\n",
              "      <td>277.0</td>\n",
              "      <td>117.0</td>\n",
              "      <td>22.0</td>\n",
              "      <td>22.0</td>\n",
              "      <td>24</td>\n",
              "    </tr>\n",
              "    <tr>\n",
              "      <th>1038</th>\n",
              "      <td>GH020061_19829.png</td>\n",
              "      <td>176.0</td>\n",
              "      <td>86.0</td>\n",
              "      <td>23.0</td>\n",
              "      <td>23.0</td>\n",
              "      <td>50</td>\n",
              "    </tr>\n",
              "    <tr>\n",
              "      <th>1039</th>\n",
              "      <td>GH050066_29877.png</td>\n",
              "      <td>277.0</td>\n",
              "      <td>119.0</td>\n",
              "      <td>25.0</td>\n",
              "      <td>22.0</td>\n",
              "      <td>53</td>\n",
              "    </tr>\n",
              "    <tr>\n",
              "      <th>1040</th>\n",
              "      <td>GH040066_1951.png</td>\n",
              "      <td>281.0</td>\n",
              "      <td>117.0</td>\n",
              "      <td>20.0</td>\n",
              "      <td>19.0</td>\n",
              "      <td>21</td>\n",
              "    </tr>\n",
              "    <tr>\n",
              "      <th>1041</th>\n",
              "      <td>GH020061_22091.png</td>\n",
              "      <td>280.0</td>\n",
              "      <td>82.0</td>\n",
              "      <td>24.0</td>\n",
              "      <td>22.0</td>\n",
              "      <td>54</td>\n",
              "    </tr>\n",
              "  </tbody>\n",
              "</table>\n",
              "<p>1042 rows × 6 columns</p>\n",
              "</div>\n",
              "      <button class=\"colab-df-convert\" onclick=\"convertToInteractive('df-aff5f499-e80a-4182-812f-3cc8aefe7599')\"\n",
              "              title=\"Convert this dataframe to an interactive table.\"\n",
              "              style=\"display:none;\">\n",
              "        \n",
              "  <svg xmlns=\"http://www.w3.org/2000/svg\" height=\"24px\"viewBox=\"0 0 24 24\"\n",
              "       width=\"24px\">\n",
              "    <path d=\"M0 0h24v24H0V0z\" fill=\"none\"/>\n",
              "    <path d=\"M18.56 5.44l.94 2.06.94-2.06 2.06-.94-2.06-.94-.94-2.06-.94 2.06-2.06.94zm-11 1L8.5 8.5l.94-2.06 2.06-.94-2.06-.94L8.5 2.5l-.94 2.06-2.06.94zm10 10l.94 2.06.94-2.06 2.06-.94-2.06-.94-.94-2.06-.94 2.06-2.06.94z\"/><path d=\"M17.41 7.96l-1.37-1.37c-.4-.4-.92-.59-1.43-.59-.52 0-1.04.2-1.43.59L10.3 9.45l-7.72 7.72c-.78.78-.78 2.05 0 2.83L4 21.41c.39.39.9.59 1.41.59.51 0 1.02-.2 1.41-.59l7.78-7.78 2.81-2.81c.8-.78.8-2.07 0-2.86zM5.41 20L4 18.59l7.72-7.72 1.47 1.35L5.41 20z\"/>\n",
              "  </svg>\n",
              "      </button>\n",
              "      \n",
              "  <style>\n",
              "    .colab-df-container {\n",
              "      display:flex;\n",
              "      flex-wrap:wrap;\n",
              "      gap: 12px;\n",
              "    }\n",
              "\n",
              "    .colab-df-convert {\n",
              "      background-color: #E8F0FE;\n",
              "      border: none;\n",
              "      border-radius: 50%;\n",
              "      cursor: pointer;\n",
              "      display: none;\n",
              "      fill: #1967D2;\n",
              "      height: 32px;\n",
              "      padding: 0 0 0 0;\n",
              "      width: 32px;\n",
              "    }\n",
              "\n",
              "    .colab-df-convert:hover {\n",
              "      background-color: #E2EBFA;\n",
              "      box-shadow: 0px 1px 2px rgba(60, 64, 67, 0.3), 0px 1px 3px 1px rgba(60, 64, 67, 0.15);\n",
              "      fill: #174EA6;\n",
              "    }\n",
              "\n",
              "    [theme=dark] .colab-df-convert {\n",
              "      background-color: #3B4455;\n",
              "      fill: #D2E3FC;\n",
              "    }\n",
              "\n",
              "    [theme=dark] .colab-df-convert:hover {\n",
              "      background-color: #434B5C;\n",
              "      box-shadow: 0px 1px 3px 1px rgba(0, 0, 0, 0.15);\n",
              "      filter: drop-shadow(0px 1px 2px rgba(0, 0, 0, 0.3));\n",
              "      fill: #FFFFFF;\n",
              "    }\n",
              "  </style>\n",
              "\n",
              "      <script>\n",
              "        const buttonEl =\n",
              "          document.querySelector('#df-aff5f499-e80a-4182-812f-3cc8aefe7599 button.colab-df-convert');\n",
              "        buttonEl.style.display =\n",
              "          google.colab.kernel.accessAllowed ? 'block' : 'none';\n",
              "\n",
              "        async function convertToInteractive(key) {\n",
              "          const element = document.querySelector('#df-aff5f499-e80a-4182-812f-3cc8aefe7599');\n",
              "          const dataTable =\n",
              "            await google.colab.kernel.invokeFunction('convertToInteractive',\n",
              "                                                     [key], {});\n",
              "          if (!dataTable) return;\n",
              "\n",
              "          const docLinkHtml = 'Like what you see? Visit the ' +\n",
              "            '<a target=\"_blank\" href=https://colab.research.google.com/notebooks/data_table.ipynb>data table notebook</a>'\n",
              "            + ' to learn more about interactive tables.';\n",
              "          element.innerHTML = '';\n",
              "          dataTable['output_type'] = 'display_data';\n",
              "          await google.colab.output.renderOutput(dataTable, element);\n",
              "          const docLink = document.createElement('div');\n",
              "          docLink.innerHTML = docLinkHtml;\n",
              "          element.appendChild(docLink);\n",
              "        }\n",
              "      </script>\n",
              "    </div>\n",
              "  </div>\n",
              "  "
            ]
          },
          "metadata": {},
          "execution_count": 8
        }
      ],
      "source": [
        "df_train=df_train.fillna(0)\n",
        "df_train"
      ],
      "id": "eI2obqGoqBs6"
    },
    {
      "cell_type": "code",
      "execution_count": 9,
      "metadata": {
        "colab": {
          "base_uri": "https://localhost:8080/",
          "height": 488
        },
        "id": "wQYY0k83qTDu",
        "outputId": "dd582572-5192-4d71-837f-b22f90ca6854"
      },
      "outputs": [
        {
          "output_type": "execute_result",
          "data": {
            "text/plain": [
              "          imageFilename  box_position_1  box_position_2  box_position_3  \\\n",
              "0    GH030061_12040.png           172.0            81.0            25.0   \n",
              "1     GH030072_2783.png           289.0            94.0            23.0   \n",
              "2       GH010059_45.png             0.0             0.0             0.0   \n",
              "3     GH030072_4929.png           288.0            94.0            23.0   \n",
              "4    GH020072_31411.png             0.0             0.0             0.0   \n",
              "..                  ...             ...             ...             ...   \n",
              "256   GH010066_8162.png           272.0           115.0            21.0   \n",
              "257   GH010062_3030.png           187.0            84.0            23.0   \n",
              "258   GH010070_2701.png           277.0           103.0            24.0   \n",
              "259  GH010058_25646.png           261.0            54.0            25.0   \n",
              "260  GH030066_13733.png           285.0           120.0            23.0   \n",
              "\n",
              "     box_position_4  class_names  \n",
              "0              24.0           28  \n",
              "1              21.0           42  \n",
              "2               0.0            0  \n",
              "3              23.0           46  \n",
              "4               0.0            0  \n",
              "..              ...          ...  \n",
              "256            23.0           39  \n",
              "257            24.0           50  \n",
              "258            23.0           60  \n",
              "259            22.0           57  \n",
              "260            23.0           44  \n",
              "\n",
              "[261 rows x 6 columns]"
            ],
            "text/html": [
              "\n",
              "  <div id=\"df-be4139c4-fbbf-4a88-96bd-b1873a1747e6\">\n",
              "    <div class=\"colab-df-container\">\n",
              "      <div>\n",
              "<style scoped>\n",
              "    .dataframe tbody tr th:only-of-type {\n",
              "        vertical-align: middle;\n",
              "    }\n",
              "\n",
              "    .dataframe tbody tr th {\n",
              "        vertical-align: top;\n",
              "    }\n",
              "\n",
              "    .dataframe thead th {\n",
              "        text-align: right;\n",
              "    }\n",
              "</style>\n",
              "<table border=\"1\" class=\"dataframe\">\n",
              "  <thead>\n",
              "    <tr style=\"text-align: right;\">\n",
              "      <th></th>\n",
              "      <th>imageFilename</th>\n",
              "      <th>box_position_1</th>\n",
              "      <th>box_position_2</th>\n",
              "      <th>box_position_3</th>\n",
              "      <th>box_position_4</th>\n",
              "      <th>class_names</th>\n",
              "    </tr>\n",
              "  </thead>\n",
              "  <tbody>\n",
              "    <tr>\n",
              "      <th>0</th>\n",
              "      <td>GH030061_12040.png</td>\n",
              "      <td>172.0</td>\n",
              "      <td>81.0</td>\n",
              "      <td>25.0</td>\n",
              "      <td>24.0</td>\n",
              "      <td>28</td>\n",
              "    </tr>\n",
              "    <tr>\n",
              "      <th>1</th>\n",
              "      <td>GH030072_2783.png</td>\n",
              "      <td>289.0</td>\n",
              "      <td>94.0</td>\n",
              "      <td>23.0</td>\n",
              "      <td>21.0</td>\n",
              "      <td>42</td>\n",
              "    </tr>\n",
              "    <tr>\n",
              "      <th>2</th>\n",
              "      <td>GH010059_45.png</td>\n",
              "      <td>0.0</td>\n",
              "      <td>0.0</td>\n",
              "      <td>0.0</td>\n",
              "      <td>0.0</td>\n",
              "      <td>0</td>\n",
              "    </tr>\n",
              "    <tr>\n",
              "      <th>3</th>\n",
              "      <td>GH030072_4929.png</td>\n",
              "      <td>288.0</td>\n",
              "      <td>94.0</td>\n",
              "      <td>23.0</td>\n",
              "      <td>23.0</td>\n",
              "      <td>46</td>\n",
              "    </tr>\n",
              "    <tr>\n",
              "      <th>4</th>\n",
              "      <td>GH020072_31411.png</td>\n",
              "      <td>0.0</td>\n",
              "      <td>0.0</td>\n",
              "      <td>0.0</td>\n",
              "      <td>0.0</td>\n",
              "      <td>0</td>\n",
              "    </tr>\n",
              "    <tr>\n",
              "      <th>...</th>\n",
              "      <td>...</td>\n",
              "      <td>...</td>\n",
              "      <td>...</td>\n",
              "      <td>...</td>\n",
              "      <td>...</td>\n",
              "      <td>...</td>\n",
              "    </tr>\n",
              "    <tr>\n",
              "      <th>256</th>\n",
              "      <td>GH010066_8162.png</td>\n",
              "      <td>272.0</td>\n",
              "      <td>115.0</td>\n",
              "      <td>21.0</td>\n",
              "      <td>23.0</td>\n",
              "      <td>39</td>\n",
              "    </tr>\n",
              "    <tr>\n",
              "      <th>257</th>\n",
              "      <td>GH010062_3030.png</td>\n",
              "      <td>187.0</td>\n",
              "      <td>84.0</td>\n",
              "      <td>23.0</td>\n",
              "      <td>24.0</td>\n",
              "      <td>50</td>\n",
              "    </tr>\n",
              "    <tr>\n",
              "      <th>258</th>\n",
              "      <td>GH010070_2701.png</td>\n",
              "      <td>277.0</td>\n",
              "      <td>103.0</td>\n",
              "      <td>24.0</td>\n",
              "      <td>23.0</td>\n",
              "      <td>60</td>\n",
              "    </tr>\n",
              "    <tr>\n",
              "      <th>259</th>\n",
              "      <td>GH010058_25646.png</td>\n",
              "      <td>261.0</td>\n",
              "      <td>54.0</td>\n",
              "      <td>25.0</td>\n",
              "      <td>22.0</td>\n",
              "      <td>57</td>\n",
              "    </tr>\n",
              "    <tr>\n",
              "      <th>260</th>\n",
              "      <td>GH030066_13733.png</td>\n",
              "      <td>285.0</td>\n",
              "      <td>120.0</td>\n",
              "      <td>23.0</td>\n",
              "      <td>23.0</td>\n",
              "      <td>44</td>\n",
              "    </tr>\n",
              "  </tbody>\n",
              "</table>\n",
              "<p>261 rows × 6 columns</p>\n",
              "</div>\n",
              "      <button class=\"colab-df-convert\" onclick=\"convertToInteractive('df-be4139c4-fbbf-4a88-96bd-b1873a1747e6')\"\n",
              "              title=\"Convert this dataframe to an interactive table.\"\n",
              "              style=\"display:none;\">\n",
              "        \n",
              "  <svg xmlns=\"http://www.w3.org/2000/svg\" height=\"24px\"viewBox=\"0 0 24 24\"\n",
              "       width=\"24px\">\n",
              "    <path d=\"M0 0h24v24H0V0z\" fill=\"none\"/>\n",
              "    <path d=\"M18.56 5.44l.94 2.06.94-2.06 2.06-.94-2.06-.94-.94-2.06-.94 2.06-2.06.94zm-11 1L8.5 8.5l.94-2.06 2.06-.94-2.06-.94L8.5 2.5l-.94 2.06-2.06.94zm10 10l.94 2.06.94-2.06 2.06-.94-2.06-.94-.94-2.06-.94 2.06-2.06.94z\"/><path d=\"M17.41 7.96l-1.37-1.37c-.4-.4-.92-.59-1.43-.59-.52 0-1.04.2-1.43.59L10.3 9.45l-7.72 7.72c-.78.78-.78 2.05 0 2.83L4 21.41c.39.39.9.59 1.41.59.51 0 1.02-.2 1.41-.59l7.78-7.78 2.81-2.81c.8-.78.8-2.07 0-2.86zM5.41 20L4 18.59l7.72-7.72 1.47 1.35L5.41 20z\"/>\n",
              "  </svg>\n",
              "      </button>\n",
              "      \n",
              "  <style>\n",
              "    .colab-df-container {\n",
              "      display:flex;\n",
              "      flex-wrap:wrap;\n",
              "      gap: 12px;\n",
              "    }\n",
              "\n",
              "    .colab-df-convert {\n",
              "      background-color: #E8F0FE;\n",
              "      border: none;\n",
              "      border-radius: 50%;\n",
              "      cursor: pointer;\n",
              "      display: none;\n",
              "      fill: #1967D2;\n",
              "      height: 32px;\n",
              "      padding: 0 0 0 0;\n",
              "      width: 32px;\n",
              "    }\n",
              "\n",
              "    .colab-df-convert:hover {\n",
              "      background-color: #E2EBFA;\n",
              "      box-shadow: 0px 1px 2px rgba(60, 64, 67, 0.3), 0px 1px 3px 1px rgba(60, 64, 67, 0.15);\n",
              "      fill: #174EA6;\n",
              "    }\n",
              "\n",
              "    [theme=dark] .colab-df-convert {\n",
              "      background-color: #3B4455;\n",
              "      fill: #D2E3FC;\n",
              "    }\n",
              "\n",
              "    [theme=dark] .colab-df-convert:hover {\n",
              "      background-color: #434B5C;\n",
              "      box-shadow: 0px 1px 3px 1px rgba(0, 0, 0, 0.15);\n",
              "      filter: drop-shadow(0px 1px 2px rgba(0, 0, 0, 0.3));\n",
              "      fill: #FFFFFF;\n",
              "    }\n",
              "  </style>\n",
              "\n",
              "      <script>\n",
              "        const buttonEl =\n",
              "          document.querySelector('#df-be4139c4-fbbf-4a88-96bd-b1873a1747e6 button.colab-df-convert');\n",
              "        buttonEl.style.display =\n",
              "          google.colab.kernel.accessAllowed ? 'block' : 'none';\n",
              "\n",
              "        async function convertToInteractive(key) {\n",
              "          const element = document.querySelector('#df-be4139c4-fbbf-4a88-96bd-b1873a1747e6');\n",
              "          const dataTable =\n",
              "            await google.colab.kernel.invokeFunction('convertToInteractive',\n",
              "                                                     [key], {});\n",
              "          if (!dataTable) return;\n",
              "\n",
              "          const docLinkHtml = 'Like what you see? Visit the ' +\n",
              "            '<a target=\"_blank\" href=https://colab.research.google.com/notebooks/data_table.ipynb>data table notebook</a>'\n",
              "            + ' to learn more about interactive tables.';\n",
              "          element.innerHTML = '';\n",
              "          dataTable['output_type'] = 'display_data';\n",
              "          await google.colab.output.renderOutput(dataTable, element);\n",
              "          const docLink = document.createElement('div');\n",
              "          docLink.innerHTML = docLinkHtml;\n",
              "          element.appendChild(docLink);\n",
              "        }\n",
              "      </script>\n",
              "    </div>\n",
              "  </div>\n",
              "  "
            ]
          },
          "metadata": {},
          "execution_count": 9
        }
      ],
      "source": [
        "df_test=pd.read_csv('https://raw.githubusercontent.com/YoushanZhang/Cow_stall_number/main/Test.csv')\n",
        "df_test=df_test.fillna(0)\n",
        "df_test"
      ],
      "id": "wQYY0k83qTDu"
    },
    {
      "cell_type": "markdown",
      "metadata": {
        "id": "DT4Dfe9oLdYL"
      },
      "source": [
        "Define Class Image Dataset (parent class)"
      ],
      "id": "DT4Dfe9oLdYL"
    },
    {
      "cell_type": "code",
      "execution_count": 10,
      "metadata": {
        "id": "IMdKosxAMv0V"
      },
      "outputs": [],
      "source": [
        "class ImageDataSet(Dataset):\n",
        "    def __init__(self, img_dir, df):\n",
        "        self.img_dir = img_dir\n",
        "        self.file_name = df['imageFilename'].tolist()\n",
        "        self.x = df['box_position_1'].tolist()\n",
        "        self.y = df['box_position_2'].tolist()\n",
        "        self.height = df['box_position_3'].tolist()\n",
        "        self.width = df['box_position_4'].tolist()\n",
        "        self.label = df['class_names'].tolist()\n",
        "        \n",
        "    def transform(self, image, mask):\n",
        "        pass\n",
        " \n",
        "    \n",
        "    def mask_to_box(self,mask):\n",
        "        if len(np.where(mask==255)[0]) > 0:\n",
        "            x_scale, y_scale = np.where(mask==255)[1:]\n",
        "\n",
        "            bbox = torch.tensor([x_scale.min(), y_scale.min(),x_scale.max()-x_scale.min(),y_scale.max()-y_scale.min()])\n",
        "        else:\n",
        "            bbox = torch.tensor([0,0,0,0])\n",
        "        return bbox\n",
        "\n",
        "\n",
        "        \n",
        "    def __len__(self):\n",
        "        return len(self.file_name)\n",
        "\n",
        "    def __getitem__(self, idx):\n",
        "        img_path = os.path.join(self.img_dir, self.file_name[idx])\n",
        "        img = Image.open(img_path) \n",
        "        label = torch.tensor(self.label[idx], dtype = torch.long)\n",
        "        mask = np.zeros((img.size[1], img.size[0]))\n",
        "        bbox = [self.x[idx],self.y[idx],self.height[idx],self.width[idx]]\n",
        "\n",
        "        bbox = np.array(bbox, dtype = 'int')\n",
        "        mask[bbox[1]:bbox[1]+bbox[3]+1,bbox[0]:bbox[0]+bbox[2]+1]=255\n",
        "        mask = Image.fromarray(mask)\n",
        "       \n",
        "       \n",
        "        img, mask = self.transform(img, mask)\n",
        "\n",
        "            \n",
        "        bbox = self.mask_to_box(mask)\n",
        "\n",
        "        return img, bbox, label"
      ],
      "id": "IMdKosxAMv0V"
    },
    {
      "cell_type": "markdown",
      "metadata": {
        "id": "7sjk7mwCNXGQ"
      },
      "source": [
        "Define Class Train Image Dataset "
      ],
      "id": "7sjk7mwCNXGQ"
    },
    {
      "cell_type": "code",
      "execution_count": 11,
      "metadata": {
        "id": "pBSz2QYWPTOe"
      },
      "outputs": [],
      "source": [
        "class TrainDataSet(ImageDataSet):\n",
        "        \n",
        "    def __init__(self, img_dir, df):\n",
        "         super(TrainDataSet, self).__init__(img_dir, df)\n",
        "\n",
        "    def transform(self, image, mask):\n",
        "        resize = transforms.Resize(size=(270,270))\n",
        "        image = resize(image)\n",
        "        mask = resize(mask)\n",
        "\n",
        "        # Random crop\n",
        "        i, j, h, w = transforms.RandomCrop.get_params(\n",
        "            image, output_size=(224,224))\n",
        "        image = TF.crop(image, i, j, h, w)\n",
        "        mask = TF.crop(mask, i, j, h, w)\n",
        "        \n",
        "        # Random horizontal flipping\n",
        "        if random.random() > 0.5:\n",
        "            image = TF.hflip(image)\n",
        "            mask = TF.hflip(mask)\n",
        "        \n",
        "        # Random vertical flipping\n",
        "        if random.random() > 0.5:\n",
        "            image = TF.vflip(image)\n",
        "            mask = TF.vflip(mask)\n",
        "        \n",
        "        # Center crop\n",
        "        image = transforms.CenterCrop((224,224))(image)\n",
        "        mask = transforms.CenterCrop((224,224))(mask)\n",
        "            \n",
        "        # Random rotation   \n",
        "        if random.random() > 0.5:\n",
        "            angle = random.randint(-10, 10)\n",
        "            image = TF.rotate(image, angle)\n",
        "            mask = TF.rotate(mask, angle)\n",
        "        \n",
        "        \n",
        "        color_t = transforms.ColorJitter() \n",
        "        \n",
        "        # Transform to tensor\n",
        "        image = TF.to_tensor(image)\n",
        "        image = TF.normalize(image,(0.485, 0.456, 0.406), (0.229, 0.224, 0.225))\n",
        "        mask = TF.to_tensor(mask)\n",
        "        return image, mask\n",
        " \n"
      ],
      "id": "pBSz2QYWPTOe"
    },
    {
      "cell_type": "markdown",
      "metadata": {
        "id": "lz_RsfMCRQw5"
      },
      "source": [
        "Define Class Test Image Dataset"
      ],
      "id": "lz_RsfMCRQw5"
    },
    {
      "cell_type": "code",
      "execution_count": 12,
      "metadata": {
        "id": "9C9xScSbRRQZ"
      },
      "outputs": [],
      "source": [
        "class TestDataSet(ImageDataSet):\n",
        "    def __init__(self, img_dir, df):\n",
        "         super(TestDataSet, self).__init__(img_dir, df)\n",
        " \n",
        "    def transform(self, image, mask):\n",
        "        resize = transforms.Resize(size=(270,270))\n",
        "        image = resize(image)\n",
        "        mask = resize(mask)\n",
        "\n",
        "        # Random crop\n",
        "        i, j, h, w = transforms.RandomCrop.get_params(\n",
        "            image, output_size=(224,224))\n",
        "        \n",
        "        # Center crop\n",
        "        image = transforms.CenterCrop((224,224))(image)\n",
        "        mask = transforms.CenterCrop((224,224))(mask)        \n",
        "        image = TF.crop(image, i, j, h, w)\n",
        "        mask = TF.crop(mask, i, j, h, w)\n",
        "        \n",
        "        image = TF.to_tensor(image)\n",
        "        image = TF.normalize(image,(0.485, 0.456, 0.406), (0.229, 0.224, 0.225))\n",
        "        mask = TF.to_tensor(mask)\n",
        "        return image, mask"
      ],
      "id": "9C9xScSbRRQZ"
    },
    {
      "cell_type": "code",
      "execution_count": 13,
      "metadata": {
        "id": "aAWjSIELuPa4"
      },
      "outputs": [],
      "source": [
        "train_names=df_train['imageFilename'].tolist()"
      ],
      "id": "aAWjSIELuPa4"
    },
    {
      "cell_type": "code",
      "execution_count": 14,
      "metadata": {
        "id": "F8GpAN5tuody"
      },
      "outputs": [],
      "source": [
        "test_names=df_test['imageFilename'].tolist()"
      ],
      "id": "F8GpAN5tuody"
    },
    {
      "cell_type": "code",
      "execution_count": 15,
      "metadata": {
        "id": "cXtmj-7ivND2"
      },
      "outputs": [],
      "source": [
        "directory='/content/drive/MyDrive/Datasets/YU/Stall_num_images'"
      ],
      "id": "cXtmj-7ivND2"
    },
    {
      "cell_type": "code",
      "execution_count": 16,
      "metadata": {
        "id": "NpJ7B4HI1wMu"
      },
      "outputs": [],
      "source": [
        "train_targets=df_train['class_names'].tolist()\n",
        "test_targets=df_test['class_names'].tolist()"
      ],
      "id": "NpJ7B4HI1wMu"
    },
    {
      "cell_type": "code",
      "execution_count": 17,
      "metadata": {
        "id": "3cTepCDRwZnL"
      },
      "outputs": [],
      "source": [
        "train_files=list(map(lambda x: os.path.join(directory,x),train_names))\n",
        "test_files=list(map(lambda x: os.path.join(directory,x),test_names))"
      ],
      "id": "3cTepCDRwZnL"
    },
    {
      "cell_type": "markdown",
      "metadata": {
        "id": "Y5ptGFePz9hs"
      },
      "source": [
        "Split data on train, test and validation data"
      ],
      "id": "Y5ptGFePz9hs"
    },
    {
      "cell_type": "code",
      "execution_count": 18,
      "metadata": {
        "id": "Rbbi-WhS0Nk4"
      },
      "outputs": [],
      "source": [
        "TRAIN_BATCH_SIZE = 16\n",
        "TEST_BATCH_SIZE = 8\n",
        "pin_memory=True"
      ],
      "id": "Rbbi-WhS0Nk4"
    },
    {
      "cell_type": "code",
      "execution_count": 19,
      "metadata": {
        "id": "COUOdw06TSFx"
      },
      "outputs": [],
      "source": [
        "train_dataset = TrainDataSet(directory,df_train)\n",
        "test_dataset = TestDataSet(directory,df_test)\n"
      ],
      "id": "COUOdw06TSFx"
    },
    {
      "cell_type": "markdown",
      "metadata": {
        "id": "VDoNBcJPTpIe"
      },
      "source": [
        "CREATE LOADERS"
      ],
      "id": "VDoNBcJPTpIe"
    },
    {
      "cell_type": "code",
      "execution_count": 20,
      "metadata": {
        "id": "_zc7FyEhTnUo"
      },
      "outputs": [],
      "source": [
        "train_loader = torch.utils.data.DataLoader(dataset=train_dataset, batch_size=TRAIN_BATCH_SIZE, shuffle=True)\n",
        "test_loader = torch.utils.data.DataLoader(dataset=test_dataset, batch_size=TEST_BATCH_SIZE, shuffle=False)"
      ],
      "id": "_zc7FyEhTnUo"
    },
    {
      "cell_type": "markdown",
      "metadata": {
        "id": "suia9TA4X5u2"
      },
      "source": [
        "Freeze all layers"
      ],
      "id": "suia9TA4X5u2"
    },
    {
      "cell_type": "code",
      "execution_count": 21,
      "metadata": {
        "id": "gR2VJha4ZsFm"
      },
      "outputs": [],
      "source": [
        "for param in model.parameters():\n",
        "    param.requires_grad = False\n",
        "    \n",
        "total = len(list(model.resnet50.children()))\n",
        "for i, layer in enumerate(model.resnet50.children()):\n",
        "    if i >= total - 3: \n",
        "        for param in layer.parameters():\n",
        "            param.requires_grad = True\n",
        "\n",
        "\n",
        "\n",
        "for param in model.classes.parameters():\n",
        "    param.requires_grad = True\n",
        "\n",
        "\n",
        "for param in model.coordinates.parameters():\n",
        "    param.requires_grad = True"
      ],
      "id": "gR2VJha4ZsFm"
    },
    {
      "cell_type": "code",
      "execution_count": 22,
      "metadata": {
        "id": "Wc4CKxINZPTr"
      },
      "outputs": [],
      "source": [
        "import torch.optim.lr_scheduler as lr_scheduler"
      ],
      "id": "Wc4CKxINZPTr"
    },
    {
      "cell_type": "code",
      "execution_count": 23,
      "metadata": {
        "id": "s5cp9GkuZKrh"
      },
      "outputs": [],
      "source": [
        "scheduler = lr_scheduler.ReduceLROnPlateau(optimizer, mode='min', factor=0.5, patience=5)"
      ],
      "id": "s5cp9GkuZKrh"
    },
    {
      "cell_type": "code",
      "execution_count": 24,
      "metadata": {
        "id": "dUvbksV5YGnD"
      },
      "outputs": [],
      "source": [
        "optimizer = torch.optim.Adam(list(filter(lambda p: p.requires_grad, model.parameters())), lr=1e-4, weight_decay=5e-4)"
      ],
      "id": "dUvbksV5YGnD"
    },
    {
      "cell_type": "code",
      "source": [
        "def IoU(boxa, boxb):\n",
        "    box1=[boxa[0],boxa[1],boxa[0]+boxa[3],boxa[1]+boxa[2]]\n",
        "    box2=[boxb[0],boxb[1],boxb[0]+boxb[3],boxb[1]+boxb[2]]\n",
        "    x1 = max(box1[0],box2[0])\n",
        "    y1 = max(box1[1],box2[1])\n",
        "    x2 = min(box1[2],box2[2])\n",
        "    y2 = min(box1[3],box2[3])\n",
        "    \n",
        "    inter = max(0,x2-x1+1)*max(0, y2-y1+1)\n",
        "    boxa_area = (boxa[2]+1)*(boxa[3]+1)\n",
        "    boxb_area = (boxb[2]+1)*(boxb[3]+1)\n",
        "    iou = inter/float(boxa_area+boxb_area-inter)\n",
        "    \n",
        "    return iou"
      ],
      "metadata": {
        "id": "XRYiH_v8HbkG"
      },
      "id": "XRYiH_v8HbkG",
      "execution_count": 25,
      "outputs": []
    },
    {
      "cell_type": "code",
      "execution_count": 26,
      "metadata": {
        "id": "Rd1au9_XbfsU"
      },
      "outputs": [],
      "source": [
        "def count_correct_predictions(pred, targets):\n",
        "    _, pred_classes = torch.max(pred, dim=-1)\n",
        "    correct = (pred_classes == targets).sum().item()\n",
        "    return correct\n"
      ],
      "id": "Rd1au9_XbfsU"
    },
    {
      "cell_type": "code",
      "execution_count": 27,
      "metadata": {
        "id": "Vsbk4EE9aRsV"
      },
      "outputs": [],
      "source": [
        "def loss_function(box_target, box_pred, class_target, class_pred):\n",
        "    iou_losses = []\n",
        "    box_losses = []\n",
        "    class_loss = nn.CrossEntropyLoss()(class_pred, class_target)\n",
        "    \n",
        "    for i in range(len(box_pred)):\n",
        "        iou_loss = 1 - IoU(box_pred[i], box_target[i])\n",
        "        iou_losses.append(iou_loss)\n",
        "        \n",
        "        box_loss = F.smooth_l1_loss(box_pred[i], box_target[i], reduction='mean')\n",
        "        box_losses.append(box_loss)\n",
        "    \n",
        "    iou_losses = torch.tensor(iou_losses).to(device)\n",
        "    iou_loss = iou_losses.mean()\n",
        "    \n",
        "    box_losses = torch.tensor(box_losses).to(device)\n",
        "    box_loss = box_losses.mean()\n",
        "\n",
        "    loss = 1.0 * class_loss + 0.1 * box_loss + 5.0 * iou_loss\n",
        "    count = count_correct_predictions(class_pred, class_target)\n",
        "    return loss, count, iou_loss.item()\n"
      ],
      "id": "Vsbk4EE9aRsV"
    },
    {
      "cell_type": "code",
      "execution_count": 28,
      "metadata": {
        "id": "F8LqQgeiRea-"
      },
      "outputs": [],
      "source": [
        "criterion = nn.CrossEntropyLoss()\n",
        "mse_loss = nn.MSELoss()"
      ],
      "id": "F8LqQgeiRea-"
    },
    {
      "cell_type": "code",
      "source": [
        "max_val=75\n",
        "best_epoch=0"
      ],
      "metadata": {
        "id": "f2WFe8mrDXYO"
      },
      "id": "f2WFe8mrDXYO",
      "execution_count": 29,
      "outputs": []
    },
    {
      "cell_type": "markdown",
      "metadata": {
        "id": "MyA_rTaLb5MD"
      },
      "source": [
        "Train the model"
      ],
      "id": "MyA_rTaLb5MD"
    },
    {
      "cell_type": "code",
      "source": [
        "num_epochs = 210\n",
        "all_trainloss= []\n",
        "all_valloss= []\n",
        "all_train_iou=[]\n",
        "all_train_acc = []\n",
        "all_valid_acc=[]\n",
        "all_train_iou=[]\n",
        "all_valid_iou=[]\n",
        "c=[]\n"
      ],
      "metadata": {
        "id": "Pbp0CDdlKqFS"
      },
      "id": "Pbp0CDdlKqFS",
      "execution_count": 30,
      "outputs": []
    },
    {
      "cell_type": "code",
      "execution_count": null,
      "metadata": {
        "colab": {
          "base_uri": "https://localhost:8080/"
        },
        "id": "T9qDFC6x1C9J",
        "outputId": "4f514b12-7c08-43bd-af56-7ca1f4489d34"
      },
      "outputs": [
        {
          "metadata": {
            "tags": null
          },
          "name": "stdout",
          "output_type": "stream",
          "text": [
            "Epoch 202, Loss: 12.2672, Acc: 99.1363,  testLoss: 7.9061, testAcc: 81.9923\n",
            "Epoch 203, Loss: 12.2964, Acc: 98.5605,  testLoss: 7.9699, testAcc: 78.9272\n",
            "Epoch 204, Loss: 12.2144, Acc: 98.8484,  testLoss: 7.9331, testAcc: 78.9272\n",
            "Epoch 205, Loss: 12.1987, Acc: 99.3282,  testLoss: 7.8214, testAcc: 83.1418\n",
            "Epoch 206, Loss: 12.2333, Acc: 99.3282,  testLoss: 7.9614, testAcc: 83.5249\n",
            "Epoch 207, Loss: 12.1766, Acc: 99.4242,  testLoss: 7.8899, testAcc: 80.8429\n",
            "Epoch 208, Loss: 12.3386, Acc: 98.5605,  testLoss: 8.0099, testAcc: 79.6935\n",
            "Epoch 209, Loss: 12.2503, Acc: 99.0403,  testLoss: 7.8167, testAcc: 83.5249\n"
          ]
        }
      ],
      "source": [
        "for epoch in range(num_epochs):\n",
        "    model.train()\n",
        "    train_loss, valid_loss = 0, 0\n",
        "    train_iou, valid_iou = 0, 0\n",
        "    train_count, valid_count=0, 0\n",
        "    for image, box_target, class_target in train_loader:\n",
        "\n",
        "        # Forward pass\n",
        "        box_target = box_target.to(torch.float32)\n",
        "        image, class_target, box_target = image.to(device), class_target.to(device), box_target.to(device)\n",
        "       \n",
        "        optimizer.zero_grad()\n",
        "        class_pred, box_pred = model(image)\n",
        "\n",
        "        loss, count, iou = loss_function(box_target, box_pred, class_target, class_pred)\n",
        "        \n",
        "        l2_regularization = torch.tensor(0.).to('cuda' if torch.cuda.is_available() else 'cpu')\n",
        "        for param in model.parameters():\n",
        "            l2_regularization += torch.norm(param, p=2)\n",
        "        loss += 0.01 * l2_regularization\n",
        "\n",
        "        \n",
        "        loss.backward()\n",
        "        optimizer.step()\n",
        "        train_loss+=loss.item()        \n",
        "        train_count+=count\n",
        "        train_iou+=iou\n",
        "        \n",
        "\n",
        "        \n",
        "    # Validation    \n",
        "    model.eval()\n",
        "    for image, box_target, class_target in test_loader:\n",
        "        box_target = box_target.to(torch.float32)\n",
        "        image, class_target, box_target = image.to('cuda' if torch.cuda.is_available() else 'cpu'), class_target.to('cuda' if torch.cuda.is_available() else 'cpu'), box_target.to('cuda' if torch.cuda.is_available() else 'cpu')\n",
        "        class_pred, box_pred = model(image)\n",
        "        val_loss, val_count, val_iou = loss_function(box_target, box_pred, class_target, class_pred)\n",
        "        valid_loss+=val_loss.item()   \n",
        "        valid_iou+=val_iou\n",
        "        valid_count+=val_count\n",
        "        \n",
        "    train_loss/=len(train_loader)\n",
        "    valid_loss /= len(test_loader)\n",
        "    train_iou/=len(train_loader)\n",
        "    valid_iou /= len(test_loader)   \n",
        "    train_acc = train_count / len(train_loader.dataset)*100\n",
        "    valid_acc = valid_count / len(test_loader.dataset)*100\n",
        "        \n",
        "    all_trainloss.append(train_loss)\n",
        "    all_train_acc.append(train_acc)    \n",
        "    all_valloss.append(valid_loss)\n",
        "    all_valid_acc.append(valid_acc)\n",
        "    all_train_iou.append(train_iou*100)\n",
        "    all_valid_iou.append(valid_iou*100)\n",
        "    \n",
        "    scheduler.step(valid_acc)\n",
        "    \n",
        "    if valid_acc > max_val:\n",
        "        name = f'stall_number_detector.pth'\n",
        "        torch.save(model.state_dict(), name)  \n",
        "        max_val=valid_acc\n",
        "        best_epoch=epoch+1\n",
        "\n",
        "\n",
        "\n",
        "    # Print the loss and accuracy\n",
        "    print(f\"Epoch {epoch+1}, Loss: {train_loss:.4f}, Acc: {train_acc:.4f},  testLoss: { valid_loss:.4f}, testAcc: {valid_acc:.4f}\")"
      ],
      "id": "T9qDFC6x1C9J"
    },
    {
      "cell_type": "markdown",
      "source": [
        "The loss function on training and validation data"
      ],
      "metadata": {
        "id": "usz-dNB-bsGL"
      },
      "id": "usz-dNB-bsGL"
    },
    {
      "cell_type": "code",
      "source": [
        "plt.plot(all_trainloss, label='training_loss')\n",
        "plt.plot(all_valloss, label='valid_loss')\n",
        "plt.legend()"
      ],
      "metadata": {
        "colab": {
          "base_uri": "https://localhost:8080/",
          "height": 448
        },
        "id": "9we3Ehplbsbl",
        "outputId": "2db4bb0e-4c7c-48f3-9e32-83c9cdaffa84"
      },
      "id": "9we3Ehplbsbl",
      "execution_count": null,
      "outputs": [
        {
          "output_type": "execute_result",
          "data": {
            "text/plain": [
              "<matplotlib.legend.Legend at 0x7f37dc6a8790>"
            ]
          },
          "metadata": {},
          "execution_count": 40
        },
        {
          "output_type": "display_data",
          "data": {
            "text/plain": [
              "<Figure size 640x480 with 1 Axes>"
            ],
            "image/png": "[encoded data removed]"
          },
          "metadata": {}
        }
      ]
    },
    {
      "cell_type": "markdown",
      "source": [
        "The accuracy on training and validation data"
      ],
      "metadata": {
        "id": "nFb_MRn-cJf8"
      },
      "id": "nFb_MRn-cJf8"
    },
    {
      "cell_type": "code",
      "source": [
        "plt.plot(all_valid_acc, label='valid_accuracy')\n",
        "plt.plot(all_train_acc, label='train_accuracy')\n",
        "plt.legend()"
      ],
      "metadata": {
        "colab": {
          "base_uri": "https://localhost:8080/",
          "height": 448
        },
        "id": "FL88JcQdcQN4",
        "outputId": "1d08f564-bed2-4463-e412-57323d7393b7"
      },
      "id": "FL88JcQdcQN4",
      "execution_count": null,
      "outputs": [
        {
          "output_type": "execute_result",
          "data": {
            "text/plain": [
              "<matplotlib.legend.Legend at 0x7f37dc0920d0>"
            ]
          },
          "metadata": {},
          "execution_count": 43
        },
        {
          "output_type": "display_data",
          "data": {
            "text/plain": [
              "<Figure size 640x480 with 1 Axes>"
            ],
            "image/png": "[encoded data removed]"
          },
          "metadata": {}
        }
      ]
    },
    {
      "cell_type": "markdown",
      "metadata": {
        "id": "7f63262f"
      },
      "source": [
        "# 3.Evaluate your model using the test images"
      ],
      "id": "7f63262f"
    },
    {
      "cell_type": "code",
      "execution_count": 33,
      "metadata": {
        "id": "687038bb",
        "colab": {
          "base_uri": "https://localhost:8080/"
        },
        "outputId": "182ade6a-ddc6-40c4-fc64-64c7de545817"
      },
      "outputs": [
        {
          "output_type": "stream",
          "name": "stdout",
          "text": [
            "The best epoch is 183\n"
          ]
        }
      ],
      "source": [
        "print(f'The best epoch is {best_epoch}')"
      ],
      "id": "687038bb"
    },
    {
      "cell_type": "markdown",
      "source": [
        "Model evaluation"
      ],
      "metadata": {
        "id": "CyPRja5pcpnp"
      },
      "id": "CyPRja5pcpnp"
    },
    {
      "cell_type": "code",
      "source": [
        "clf=ResNet50ForObecjectDetection().to(device)"
      ],
      "metadata": {
        "colab": {
          "base_uri": "https://localhost:8080/"
        },
        "id": "TZWVaw4zgTUq",
        "outputId": "064ac565-80bb-4ce7-cfa0-9a9e85053f1b"
      },
      "id": "TZWVaw4zgTUq",
      "execution_count": 34,
      "outputs": [
        {
          "output_type": "stream",
          "name": "stderr",
          "text": [
            "/usr/local/lib/python3.9/dist-packages/torchvision/models/_utils.py:208: UserWarning: The parameter 'pretrained' is deprecated since 0.13 and may be removed in the future, please use 'weights' instead.\n",
            "  warnings.warn(\n",
            "/usr/local/lib/python3.9/dist-packages/torchvision/models/_utils.py:223: UserWarning: Arguments other than a weight enum or `None` for 'weights' are deprecated since 0.13 and may be removed in the future. The current behavior is equivalent to passing `weights=ResNet50_Weights.IMAGENET1K_V1`. You can also use `weights=ResNet50_Weights.DEFAULT` to get the most up-to-date weights.\n",
            "  warnings.warn(msg)\n"
          ]
        }
      ]
    },
    {
      "cell_type": "code",
      "source": [
        "with open('stall_number_detector_final.pth', 'rb') as f: \n",
        "    clf.load_state_dict(torch.load(f))"
      ],
      "metadata": {
        "id": "nZCCZi7DfrZ0"
      },
      "id": "nZCCZi7DfrZ0",
      "execution_count": 35,
      "outputs": []
    },
    {
      "cell_type": "code",
      "source": [
        "test_count=0\n",
        "test_iou=0"
      ],
      "metadata": {
        "id": "Cst8REd4fSYn"
      },
      "id": "Cst8REd4fSYn",
      "execution_count": 36,
      "outputs": []
    },
    {
      "cell_type": "code",
      "source": [
        "clf.eval()\n",
        "for image, box_target, class_target in test_loader:\n",
        "        box_target = box_target.to(torch.float32)\n",
        "        image, class_target, box_target = image.to(device), class_target.to(device), box_target.to(device)\n",
        "        class_pred, box_pred = clf(image)\n",
        "        _, t_count, _ = loss_function(box_target, box_pred, class_target, class_pred)\n",
        "        \n",
        "        for i in range(len(box_pred)):\n",
        "            test_iou+= IoU(box_pred[i], box_target[i])\n",
        "        test_count+=t_count\n"
      ],
      "metadata": {
        "id": "VFPN_zMfc87n"
      },
      "id": "VFPN_zMfc87n",
      "execution_count": 37,
      "outputs": []
    },
    {
      "cell_type": "code",
      "source": [
        "test_iou=test_iou/ len(test_loader.dataset)*100"
      ],
      "metadata": {
        "id": "ID_0pSMyEcle"
      },
      "id": "ID_0pSMyEcle",
      "execution_count": 41,
      "outputs": []
    },
    {
      "cell_type": "code",
      "source": [
        "test_acc = test_count / len(test_loader.dataset)*100\n"
      ],
      "metadata": {
        "id": "geNSvYRxsRGI"
      },
      "id": "geNSvYRxsRGI",
      "execution_count": 35,
      "outputs": []
    },
    {
      "cell_type": "code",
      "source": [
        "print(f'Accuracy on test data is {test_acc:.4f}')"
      ],
      "metadata": {
        "colab": {
          "base_uri": "https://localhost:8080/"
        },
        "id": "IYckzxbsfO1w",
        "outputId": "3720a7aa-bce4-47f0-cc97-9db5cc2ec835"
      },
      "id": "IYckzxbsfO1w",
      "execution_count": 41,
      "outputs": [
        {
          "output_type": "stream",
          "name": "stdout",
          "text": [
            "Accuracy on test data is 85.0575\n"
          ]
        }
      ]
    },
    {
      "cell_type": "code",
      "source": [
        "print(f'IoU on test data is {test_iou:.4f}')"
      ],
      "metadata": {
        "id": "TpA1-mJb0ET5",
        "colab": {
          "base_uri": "https://localhost:8080/"
        },
        "outputId": "e2555aa9-6655-4822-8723-4d466a9dabdd"
      },
      "id": "TpA1-mJb0ET5",
      "execution_count": 42,
      "outputs": [
        {
          "output_type": "stream",
          "name": "stdout",
          "text": [
            "IoU on test data is 16.8569\n"
          ]
        }
      ]
    },
    {
      "cell_type": "markdown",
      "metadata": {
        "id": "1b5846bc"
      },
      "source": [
        "# 4. Your results should be higher than 80%."
      ],
      "id": "1b5846bc"
    },
    {
      "cell_type": "markdown",
      "metadata": {
        "id": "62f12835"
      },
      "source": [
        "# 5. Write a four-page report using LaTex and upload your paper to ResearchGate or Arxiv, and put your paper link here.\n"
      ],
      "id": "62f12835"
    },
    {
      "cell_type": "markdown",
      "source": [
        "https://www.researchgate.net/publication/370139907_CowStallNumbers_Computer_Vision_system_for_Stall_Number_Detection_of_Cow_Teats_Images#fullTextFileContent"
      ],
      "metadata": {
        "id": "mR_H7QVGL-eI"
      },
      "id": "mR_H7QVGL-eI"
    },
    {
      "cell_type": "code",
      "execution_count": null,
      "metadata": {
        "id": "6f0c16b6"
      },
      "outputs": [],
      "source": [],
      "id": "6f0c16b6"
    },
    {
      "cell_type": "markdown",
      "metadata": {
        "id": "56b1a959"
      },
      "source": [
        "# 6. Grading rubric\n",
        "\n",
        "(1). Code ------- 20 points (you also need to upload your final model as a pt file, and add paper link)\n",
        "\n",
        "(2). Grammer ---- 20 points\n",
        "\n",
        "(3). Introduction & related work --- 10 points\n",
        "\n",
        "(4). Method  ---- 20 points\n",
        "\n",
        "(5). Results ---- 20 points\n",
        "\n",
        "(6). Discussion - 10 points"
      ],
      "id": "56b1a959"
    },
    {
      "cell_type": "code",
      "execution_count": null,
      "metadata": {
        "id": "4e466f06"
      },
      "outputs": [],
      "source": [],
      "id": "4e466f06"
    }
  ],
  "metadata": {
    "accelerator": "TPU",
    "colab": {
      "machine_shape": "hm",
      "provenance": []
    },
    "gpuClass": "standard",
    "kernelspec": {
      "display_name": "Python 3 (ipykernel)",
      "language": "python",
      "name": "python3"
    },
    "language_info": {
      "codemirror_mode": {
        "name": "ipython",
        "version": 3
      },
      "file_extension": ".py",
      "mimetype": "text/x-python",
      "name": "python",
      "nbconvert_exporter": "python",
      "pygments_lexer": "ipython3",
      "version": "3.9.13"
    }
  },
  "nbformat": 4,
  "nbformat_minor": 5
}